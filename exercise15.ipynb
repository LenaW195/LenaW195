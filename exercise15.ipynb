{
 "cells": [
  {
   "cell_type": "code",
   "execution_count": 11,
   "id": "3af365a2",
   "metadata": {},
   "outputs": [],
   "source": [
    "import pandas as pd # Str + Enter\n",
    "import numpy as np"
   ]
  },
  {
   "cell_type": "code",
   "execution_count": 16,
   "id": "3d671385",
   "metadata": {},
   "outputs": [
    {
     "data": {
      "text/html": [
       "<div>\n",
       "<style scoped>\n",
       "    .dataframe tbody tr th:only-of-type {\n",
       "        vertical-align: middle;\n",
       "    }\n",
       "\n",
       "    .dataframe tbody tr th {\n",
       "        vertical-align: top;\n",
       "    }\n",
       "\n",
       "    .dataframe thead th {\n",
       "        text-align: right;\n",
       "    }\n",
       "</style>\n",
       "<table border=\"1\" class=\"dataframe\">\n",
       "  <thead>\n",
       "    <tr style=\"text-align: right;\">\n",
       "      <th></th>\n",
       "      <th>Bevölkerung</th>\n",
       "      <th>Fläche</th>\n",
       "      <th>Land</th>\n",
       "      <th>Sprache</th>\n",
       "    </tr>\n",
       "  </thead>\n",
       "  <tbody>\n",
       "    <tr>\n",
       "      <th>Berlin</th>\n",
       "      <td>3.6</td>\n",
       "      <td>892</td>\n",
       "      <td>Deutschland</td>\n",
       "      <td>deutsch</td>\n",
       "    </tr>\n",
       "    <tr>\n",
       "      <th>Madrid</th>\n",
       "      <td>3.3</td>\n",
       "      <td>604</td>\n",
       "      <td>Spanien</td>\n",
       "      <td>spanisch</td>\n",
       "    </tr>\n",
       "    <tr>\n",
       "      <th>Rom</th>\n",
       "      <td>2.8</td>\n",
       "      <td>1285</td>\n",
       "      <td>Italien</td>\n",
       "      <td>None</td>\n",
       "    </tr>\n",
       "  </tbody>\n",
       "</table>\n",
       "</div>"
      ],
      "text/plain": [
       "        Bevölkerung  Fläche         Land   Sprache\n",
       "Berlin          3.6     892  Deutschland   deutsch\n",
       "Madrid          3.3     604      Spanien  spanisch\n",
       "Rom             2.8    1285      Italien      None"
      ]
     },
     "execution_count": 16,
     "metadata": {},
     "output_type": "execute_result"
    }
   ],
   "source": [
    "index = [\"Berlin\", \"Madrid\", \"Rom\"]\n",
    "bevölkerung  = pd.Series(data = [3.6, 3.3, 2.8], index = index)\n",
    "fläche = pd.Series(data = [892, 604, 1285], index = index)\n",
    "land = pd.Series(data = [\"Deutschland\", \"Spanien\", \"Italien\"], index = index)\n",
    "sprache = pd.Series(data = [\"deutsch\", \"spanisch\", None], index = index)\n",
    "\n",
    "my_dict = {\n",
    "    'Bevölkerung': bevölkerung,\n",
    "    'Fläche': fläche,\n",
    "    'Land': land,\n",
    "    'Sprache': sprache\n",
    "}\n",
    "\n",
    "df = pd.DataFrame(my_dict) # speichern\n",
    "df # damit etwas angezeigt wird"
   ]
  },
  {
   "cell_type": "code",
   "execution_count": 5,
   "id": "3c9f3f2c",
   "metadata": {},
   "outputs": [
    {
     "data": {
      "text/plain": [
       "(3, 4)"
      ]
     },
     "execution_count": 5,
     "metadata": {},
     "output_type": "execute_result"
    }
   ],
   "source": [
    "df.shape"
   ]
  },
  {
   "cell_type": "code",
   "execution_count": 6,
   "id": "c5d95a6f",
   "metadata": {},
   "outputs": [
    {
     "data": {
      "text/plain": [
       "Bevölkerung    float64\n",
       "Fläche           int64\n",
       "Land            object\n",
       "Sprache         object\n",
       "dtype: object"
      ]
     },
     "execution_count": 6,
     "metadata": {},
     "output_type": "execute_result"
    }
   ],
   "source": [
    "df.dtypes"
   ]
  },
  {
   "cell_type": "code",
   "execution_count": 7,
   "id": "13e8be63",
   "metadata": {},
   "outputs": [
    {
     "name": "stdout",
     "output_type": "stream",
     "text": [
      "<class 'pandas.core.frame.DataFrame'>\n",
      "Index: 3 entries, Berlin to Rom\n",
      "Data columns (total 4 columns):\n",
      " #   Column       Non-Null Count  Dtype  \n",
      "---  ------       --------------  -----  \n",
      " 0   Bevölkerung  3 non-null      float64\n",
      " 1   Fläche       3 non-null      int64  \n",
      " 2   Land         3 non-null      object \n",
      " 3   Sprache      2 non-null      object \n",
      "dtypes: float64(1), int64(1), object(2)\n",
      "memory usage: 120.0+ bytes\n"
     ]
    }
   ],
   "source": [
    "df.info()"
   ]
  },
  {
   "cell_type": "code",
   "execution_count": 8,
   "id": "3f924e81",
   "metadata": {},
   "outputs": [
    {
     "data": {
      "text/html": [
       "<div>\n",
       "<style scoped>\n",
       "    .dataframe tbody tr th:only-of-type {\n",
       "        vertical-align: middle;\n",
       "    }\n",
       "\n",
       "    .dataframe tbody tr th {\n",
       "        vertical-align: top;\n",
       "    }\n",
       "\n",
       "    .dataframe thead th {\n",
       "        text-align: right;\n",
       "    }\n",
       "</style>\n",
       "<table border=\"1\" class=\"dataframe\">\n",
       "  <thead>\n",
       "    <tr style=\"text-align: right;\">\n",
       "      <th></th>\n",
       "      <th>Bevölkerung</th>\n",
       "      <th>Fläche</th>\n",
       "    </tr>\n",
       "  </thead>\n",
       "  <tbody>\n",
       "    <tr>\n",
       "      <th>count</th>\n",
       "      <td>3.000000</td>\n",
       "      <td>3.000000</td>\n",
       "    </tr>\n",
       "    <tr>\n",
       "      <th>mean</th>\n",
       "      <td>3.233333</td>\n",
       "      <td>927.000000</td>\n",
       "    </tr>\n",
       "    <tr>\n",
       "      <th>std</th>\n",
       "      <td>0.404145</td>\n",
       "      <td>341.846457</td>\n",
       "    </tr>\n",
       "    <tr>\n",
       "      <th>min</th>\n",
       "      <td>2.800000</td>\n",
       "      <td>604.000000</td>\n",
       "    </tr>\n",
       "    <tr>\n",
       "      <th>25%</th>\n",
       "      <td>3.050000</td>\n",
       "      <td>748.000000</td>\n",
       "    </tr>\n",
       "    <tr>\n",
       "      <th>50%</th>\n",
       "      <td>3.300000</td>\n",
       "      <td>892.000000</td>\n",
       "    </tr>\n",
       "    <tr>\n",
       "      <th>75%</th>\n",
       "      <td>3.450000</td>\n",
       "      <td>1088.500000</td>\n",
       "    </tr>\n",
       "    <tr>\n",
       "      <th>max</th>\n",
       "      <td>3.600000</td>\n",
       "      <td>1285.000000</td>\n",
       "    </tr>\n",
       "  </tbody>\n",
       "</table>\n",
       "</div>"
      ],
      "text/plain": [
       "       Bevölkerung       Fläche\n",
       "count     3.000000     3.000000\n",
       "mean      3.233333   927.000000\n",
       "std       0.404145   341.846457\n",
       "min       2.800000   604.000000\n",
       "25%       3.050000   748.000000\n",
       "50%       3.300000   892.000000\n",
       "75%       3.450000  1088.500000\n",
       "max       3.600000  1285.000000"
      ]
     },
     "execution_count": 8,
     "metadata": {},
     "output_type": "execute_result"
    }
   ],
   "source": [
    "df.describe()"
   ]
  },
  {
   "cell_type": "code",
   "execution_count": 9,
   "id": "d8912ffe",
   "metadata": {},
   "outputs": [
    {
     "data": {
      "text/html": [
       "<div>\n",
       "<style scoped>\n",
       "    .dataframe tbody tr th:only-of-type {\n",
       "        vertical-align: middle;\n",
       "    }\n",
       "\n",
       "    .dataframe tbody tr th {\n",
       "        vertical-align: top;\n",
       "    }\n",
       "\n",
       "    .dataframe thead th {\n",
       "        text-align: right;\n",
       "    }\n",
       "</style>\n",
       "<table border=\"1\" class=\"dataframe\">\n",
       "  <thead>\n",
       "    <tr style=\"text-align: right;\">\n",
       "      <th></th>\n",
       "      <th>Bevölkerung</th>\n",
       "      <th>Fläche</th>\n",
       "      <th>Land</th>\n",
       "      <th>Sprache</th>\n",
       "    </tr>\n",
       "  </thead>\n",
       "  <tbody>\n",
       "    <tr>\n",
       "      <th>Berlin</th>\n",
       "      <td>False</td>\n",
       "      <td>False</td>\n",
       "      <td>False</td>\n",
       "      <td>False</td>\n",
       "    </tr>\n",
       "    <tr>\n",
       "      <th>Madrid</th>\n",
       "      <td>False</td>\n",
       "      <td>False</td>\n",
       "      <td>False</td>\n",
       "      <td>False</td>\n",
       "    </tr>\n",
       "    <tr>\n",
       "      <th>Rom</th>\n",
       "      <td>False</td>\n",
       "      <td>False</td>\n",
       "      <td>False</td>\n",
       "      <td>True</td>\n",
       "    </tr>\n",
       "  </tbody>\n",
       "</table>\n",
       "</div>"
      ],
      "text/plain": [
       "        Bevölkerung  Fläche   Land  Sprache\n",
       "Berlin        False   False  False    False\n",
       "Madrid        False   False  False    False\n",
       "Rom           False   False  False     True"
      ]
     },
     "execution_count": 9,
     "metadata": {},
     "output_type": "execute_result"
    }
   ],
   "source": [
    "df.isnull()"
   ]
  },
  {
   "cell_type": "code",
   "execution_count": 10,
   "id": "bf61bedb",
   "metadata": {},
   "outputs": [
    {
     "data": {
      "text/plain": [
       "Bevölkerung    0\n",
       "Fläche         0\n",
       "Land           0\n",
       "Sprache        1\n",
       "dtype: int64"
      ]
     },
     "execution_count": 10,
     "metadata": {},
     "output_type": "execute_result"
    }
   ],
   "source": [
    "df.isnull().sum()"
   ]
  },
  {
   "cell_type": "markdown",
   "id": "00bbcc94",
   "metadata": {},
   "source": [
    "# Frage 2"
   ]
  },
  {
   "cell_type": "code",
   "execution_count": 12,
   "id": "a8c48f29",
   "metadata": {},
   "outputs": [
    {
     "data": {
      "text/plain": [
       "(array([2], dtype=int64), array([3], dtype=int64))"
      ]
     },
     "execution_count": 12,
     "metadata": {},
     "output_type": "execute_result"
    }
   ],
   "source": [
    "np.where(df.isna())"
   ]
  },
  {
   "cell_type": "code",
   "execution_count": 14,
   "id": "19df8e7a",
   "metadata": {},
   "outputs": [
    {
     "data": {
      "text/html": [
       "<div>\n",
       "<style scoped>\n",
       "    .dataframe tbody tr th:only-of-type {\n",
       "        vertical-align: middle;\n",
       "    }\n",
       "\n",
       "    .dataframe tbody tr th {\n",
       "        vertical-align: top;\n",
       "    }\n",
       "\n",
       "    .dataframe thead th {\n",
       "        text-align: right;\n",
       "    }\n",
       "</style>\n",
       "<table border=\"1\" class=\"dataframe\">\n",
       "  <thead>\n",
       "    <tr style=\"text-align: right;\">\n",
       "      <th></th>\n",
       "      <th>Bevölkerung</th>\n",
       "      <th>Fläche</th>\n",
       "      <th>Land</th>\n",
       "      <th>Sprache</th>\n",
       "    </tr>\n",
       "  </thead>\n",
       "  <tbody>\n",
       "    <tr>\n",
       "      <th>Berlin</th>\n",
       "      <td>3.6</td>\n",
       "      <td>892</td>\n",
       "      <td>Deutschland</td>\n",
       "      <td>deutsch</td>\n",
       "    </tr>\n",
       "    <tr>\n",
       "      <th>Madrid</th>\n",
       "      <td>3.3</td>\n",
       "      <td>604</td>\n",
       "      <td>Spanien</td>\n",
       "      <td>spanisch</td>\n",
       "    </tr>\n",
       "    <tr>\n",
       "      <th>Rom</th>\n",
       "      <td>2.8</td>\n",
       "      <td>1285</td>\n",
       "      <td>Italien</td>\n",
       "      <td>italienisch</td>\n",
       "    </tr>\n",
       "  </tbody>\n",
       "</table>\n",
       "</div>"
      ],
      "text/plain": [
       "        Bevölkerung  Fläche         Land      Sprache\n",
       "Berlin          3.6     892  Deutschland      deutsch\n",
       "Madrid          3.3     604      Spanien     spanisch\n",
       "Rom             2.8    1285      Italien  italienisch"
      ]
     },
     "execution_count": 14,
     "metadata": {},
     "output_type": "execute_result"
    }
   ],
   "source": [
    "df.iloc[2,3] = \"italienisch\"\n",
    "df"
   ]
  },
  {
   "cell_type": "code",
   "execution_count": 20,
   "id": "6ca3a16b",
   "metadata": {},
   "outputs": [
    {
     "data": {
      "text/html": [
       "<div>\n",
       "<style scoped>\n",
       "    .dataframe tbody tr th:only-of-type {\n",
       "        vertical-align: middle;\n",
       "    }\n",
       "\n",
       "    .dataframe tbody tr th {\n",
       "        vertical-align: top;\n",
       "    }\n",
       "\n",
       "    .dataframe thead th {\n",
       "        text-align: right;\n",
       "    }\n",
       "</style>\n",
       "<table border=\"1\" class=\"dataframe\">\n",
       "  <thead>\n",
       "    <tr style=\"text-align: right;\">\n",
       "      <th></th>\n",
       "      <th>Bevölkerung</th>\n",
       "      <th>Fläche</th>\n",
       "      <th>Land</th>\n",
       "      <th>Sprache</th>\n",
       "    </tr>\n",
       "  </thead>\n",
       "  <tbody>\n",
       "    <tr>\n",
       "      <th>Berlin</th>\n",
       "      <td>3.6</td>\n",
       "      <td>892</td>\n",
       "      <td>Deutschland</td>\n",
       "      <td>deutsch</td>\n",
       "    </tr>\n",
       "    <tr>\n",
       "      <th>Madrid</th>\n",
       "      <td>3.3</td>\n",
       "      <td>604</td>\n",
       "      <td>Spanien</td>\n",
       "      <td>spanisch</td>\n",
       "    </tr>\n",
       "    <tr>\n",
       "      <th>Rom</th>\n",
       "      <td>2.8</td>\n",
       "      <td>1285</td>\n",
       "      <td>Italien</td>\n",
       "      <td>italienisch</td>\n",
       "    </tr>\n",
       "  </tbody>\n",
       "</table>\n",
       "</div>"
      ],
      "text/plain": [
       "        Bevölkerung  Fläche         Land      Sprache\n",
       "Berlin          3.6     892  Deutschland      deutsch\n",
       "Madrid          3.3     604      Spanien     spanisch\n",
       "Rom             2.8    1285      Italien  italienisch"
      ]
     },
     "execution_count": 20,
     "metadata": {},
     "output_type": "execute_result"
    }
   ],
   "source": [
    "df.loc[\"Rom\", \"Sprache\"] = \"italienisch\"\n",
    "df"
   ]
  },
  {
   "cell_type": "markdown",
   "id": "8adb74ef",
   "metadata": {},
   "source": [
    "# Frage 3"
   ]
  },
  {
   "cell_type": "code",
   "execution_count": 21,
   "id": "34a15d22",
   "metadata": {},
   "outputs": [
    {
     "data": {
      "text/html": [
       "<div>\n",
       "<style scoped>\n",
       "    .dataframe tbody tr th:only-of-type {\n",
       "        vertical-align: middle;\n",
       "    }\n",
       "\n",
       "    .dataframe tbody tr th {\n",
       "        vertical-align: top;\n",
       "    }\n",
       "\n",
       "    .dataframe thead th {\n",
       "        text-align: right;\n",
       "    }\n",
       "</style>\n",
       "<table border=\"1\" class=\"dataframe\">\n",
       "  <thead>\n",
       "    <tr style=\"text-align: right;\">\n",
       "      <th></th>\n",
       "      <th>Bevölkerung</th>\n",
       "      <th>Fläche</th>\n",
       "      <th>Land</th>\n",
       "      <th>Sprache</th>\n",
       "    </tr>\n",
       "  </thead>\n",
       "  <tbody>\n",
       "    <tr>\n",
       "      <th>New York</th>\n",
       "      <td>8.5</td>\n",
       "      <td>784</td>\n",
       "      <td>USA</td>\n",
       "      <td>english</td>\n",
       "    </tr>\n",
       "  </tbody>\n",
       "</table>\n",
       "</div>"
      ],
      "text/plain": [
       "          Bevölkerung  Fläche Land  Sprache\n",
       "New York          8.5     784  USA  english"
      ]
     },
     "execution_count": 21,
     "metadata": {},
     "output_type": "execute_result"
    }
   ],
   "source": [
    "stadt = [\"New York\"]\n",
    "bevölkerung  = pd.Series(data = [8.5], index = stadt)\n",
    "fläche = pd.Series(data = [784], index = stadt)\n",
    "land = pd.Series(data = [\"USA\"], index = stadt)\n",
    "sprache = pd.Series(data = [\"english\"], index = stadt)\n",
    "\n",
    "my_dict = {\n",
    "    'Bevölkerung': bevölkerung,\n",
    "    'Fläche': fläche,\n",
    "    'Land': land,\n",
    "    'Sprache': sprache\n",
    "}\n",
    "\n",
    "df2 = pd.DataFrame(my_dict) # spei\n",
    "df2"
   ]
  },
  {
   "cell_type": "code",
   "execution_count": 22,
   "id": "686e95d6",
   "metadata": {},
   "outputs": [
    {
     "data": {
      "text/html": [
       "<div>\n",
       "<style scoped>\n",
       "    .dataframe tbody tr th:only-of-type {\n",
       "        vertical-align: middle;\n",
       "    }\n",
       "\n",
       "    .dataframe tbody tr th {\n",
       "        vertical-align: top;\n",
       "    }\n",
       "\n",
       "    .dataframe thead th {\n",
       "        text-align: right;\n",
       "    }\n",
       "</style>\n",
       "<table border=\"1\" class=\"dataframe\">\n",
       "  <thead>\n",
       "    <tr style=\"text-align: right;\">\n",
       "      <th></th>\n",
       "      <th>Bevölkerung</th>\n",
       "      <th>Fläche</th>\n",
       "      <th>Land</th>\n",
       "      <th>Sprache</th>\n",
       "    </tr>\n",
       "  </thead>\n",
       "  <tbody>\n",
       "    <tr>\n",
       "      <th>Berlin</th>\n",
       "      <td>3.6</td>\n",
       "      <td>892</td>\n",
       "      <td>Deutschland</td>\n",
       "      <td>deutsch</td>\n",
       "    </tr>\n",
       "    <tr>\n",
       "      <th>Madrid</th>\n",
       "      <td>3.3</td>\n",
       "      <td>604</td>\n",
       "      <td>Spanien</td>\n",
       "      <td>spanisch</td>\n",
       "    </tr>\n",
       "    <tr>\n",
       "      <th>Rom</th>\n",
       "      <td>2.8</td>\n",
       "      <td>1285</td>\n",
       "      <td>Italien</td>\n",
       "      <td>italienisch</td>\n",
       "    </tr>\n",
       "    <tr>\n",
       "      <th>New York</th>\n",
       "      <td>8.5</td>\n",
       "      <td>784</td>\n",
       "      <td>USA</td>\n",
       "      <td>english</td>\n",
       "    </tr>\n",
       "  </tbody>\n",
       "</table>\n",
       "</div>"
      ],
      "text/plain": [
       "          Bevölkerung  Fläche         Land      Sprache\n",
       "Berlin            3.6     892  Deutschland      deutsch\n",
       "Madrid            3.3     604      Spanien     spanisch\n",
       "Rom               2.8    1285      Italien  italienisch\n",
       "New York          8.5     784          USA      english"
      ]
     },
     "execution_count": 22,
     "metadata": {},
     "output_type": "execute_result"
    }
   ],
   "source": [
    "df3 = pd.concat([df, df2])\n",
    "df3"
   ]
  },
  {
   "cell_type": "code",
   "execution_count": 23,
   "id": "8b3b3d3a",
   "metadata": {
    "scrolled": true
   },
   "outputs": [
    {
     "data": {
      "text/html": [
       "<div>\n",
       "<style scoped>\n",
       "    .dataframe tbody tr th:only-of-type {\n",
       "        vertical-align: middle;\n",
       "    }\n",
       "\n",
       "    .dataframe tbody tr th {\n",
       "        vertical-align: top;\n",
       "    }\n",
       "\n",
       "    .dataframe thead th {\n",
       "        text-align: right;\n",
       "    }\n",
       "</style>\n",
       "<table border=\"1\" class=\"dataframe\">\n",
       "  <thead>\n",
       "    <tr style=\"text-align: right;\">\n",
       "      <th></th>\n",
       "      <th>Bevölkerung</th>\n",
       "      <th>Fläche</th>\n",
       "      <th>Land</th>\n",
       "      <th>Sprache</th>\n",
       "      <th>EU</th>\n",
       "    </tr>\n",
       "  </thead>\n",
       "  <tbody>\n",
       "    <tr>\n",
       "      <th>Berlin</th>\n",
       "      <td>3.6</td>\n",
       "      <td>892</td>\n",
       "      <td>Deutschland</td>\n",
       "      <td>deutsch</td>\n",
       "      <td>True</td>\n",
       "    </tr>\n",
       "    <tr>\n",
       "      <th>Madrid</th>\n",
       "      <td>3.3</td>\n",
       "      <td>604</td>\n",
       "      <td>Spanien</td>\n",
       "      <td>spanisch</td>\n",
       "      <td>True</td>\n",
       "    </tr>\n",
       "    <tr>\n",
       "      <th>Rom</th>\n",
       "      <td>2.8</td>\n",
       "      <td>1285</td>\n",
       "      <td>Italien</td>\n",
       "      <td>italienisch</td>\n",
       "      <td>True</td>\n",
       "    </tr>\n",
       "    <tr>\n",
       "      <th>New York</th>\n",
       "      <td>8.5</td>\n",
       "      <td>784</td>\n",
       "      <td>USA</td>\n",
       "      <td>english</td>\n",
       "      <td>False</td>\n",
       "    </tr>\n",
       "  </tbody>\n",
       "</table>\n",
       "</div>"
      ],
      "text/plain": [
       "          Bevölkerung  Fläche         Land      Sprache     EU\n",
       "Berlin            3.6     892  Deutschland      deutsch   True\n",
       "Madrid            3.3     604      Spanien     spanisch   True\n",
       "Rom               2.8    1285      Italien  italienisch   True\n",
       "New York          8.5     784          USA      english  False"
      ]
     },
     "execution_count": 23,
     "metadata": {},
     "output_type": "execute_result"
    }
   ],
   "source": [
    "df3[\"EU\"] = df3[\"Land\"] != \"USA\"\n",
    "df3\n"
   ]
  },
  {
   "cell_type": "markdown",
   "id": "675b2144",
   "metadata": {},
   "source": [
    "# Frage 5"
   ]
  },
  {
   "cell_type": "code",
   "execution_count": 24,
   "id": "82a8bece",
   "metadata": {},
   "outputs": [
    {
     "data": {
      "text/html": [
       "<div>\n",
       "<style scoped>\n",
       "    .dataframe tbody tr th:only-of-type {\n",
       "        vertical-align: middle;\n",
       "    }\n",
       "\n",
       "    .dataframe tbody tr th {\n",
       "        vertical-align: top;\n",
       "    }\n",
       "\n",
       "    .dataframe thead th {\n",
       "        text-align: right;\n",
       "    }\n",
       "</style>\n",
       "<table border=\"1\" class=\"dataframe\">\n",
       "  <thead>\n",
       "    <tr style=\"text-align: right;\">\n",
       "      <th></th>\n",
       "      <th>Bevölkerung</th>\n",
       "      <th>Fläche</th>\n",
       "      <th>Land</th>\n",
       "      <th>Sprache</th>\n",
       "      <th>EU</th>\n",
       "      <th>Region</th>\n",
       "    </tr>\n",
       "  </thead>\n",
       "  <tbody>\n",
       "    <tr>\n",
       "      <th>Berlin</th>\n",
       "      <td>3.6</td>\n",
       "      <td>892</td>\n",
       "      <td>Deutschland</td>\n",
       "      <td>deutsch</td>\n",
       "      <td>True</td>\n",
       "      <td>Europe</td>\n",
       "    </tr>\n",
       "    <tr>\n",
       "      <th>Madrid</th>\n",
       "      <td>3.3</td>\n",
       "      <td>604</td>\n",
       "      <td>Spanien</td>\n",
       "      <td>spanisch</td>\n",
       "      <td>True</td>\n",
       "      <td>Europe</td>\n",
       "    </tr>\n",
       "    <tr>\n",
       "      <th>Rom</th>\n",
       "      <td>2.8</td>\n",
       "      <td>1285</td>\n",
       "      <td>Italien</td>\n",
       "      <td>italienisch</td>\n",
       "      <td>True</td>\n",
       "      <td>Europe</td>\n",
       "    </tr>\n",
       "    <tr>\n",
       "      <th>New York</th>\n",
       "      <td>8.5</td>\n",
       "      <td>784</td>\n",
       "      <td>USA</td>\n",
       "      <td>english</td>\n",
       "      <td>False</td>\n",
       "      <td>Americas</td>\n",
       "    </tr>\n",
       "  </tbody>\n",
       "</table>\n",
       "</div>"
      ],
      "text/plain": [
       "          Bevölkerung  Fläche         Land      Sprache     EU    Region\n",
       "Berlin            3.6     892  Deutschland      deutsch   True    Europe\n",
       "Madrid            3.3     604      Spanien     spanisch   True    Europe\n",
       "Rom               2.8    1285      Italien  italienisch   True    Europe\n",
       "New York          8.5     784          USA      english  False  Americas"
      ]
     },
     "execution_count": 24,
     "metadata": {},
     "output_type": "execute_result"
    }
   ],
   "source": [
    "df3['Region'] = np.where(df3[\"EU\"] == True, \"Europe\", \"Americas\")\n",
    "df3"
   ]
  },
  {
   "cell_type": "code",
   "execution_count": 19,
   "id": "bad21599",
   "metadata": {},
   "outputs": [
    {
     "ename": "IndentationError",
     "evalue": "unexpected indent (4177795246.py, line 2)",
     "output_type": "error",
     "traceback": [
      "\u001b[1;36m  Cell \u001b[1;32mIn[19], line 2\u001b[1;36m\u001b[0m\n\u001b[1;33m    df\u001b[0m\n\u001b[1;37m    ^\u001b[0m\n\u001b[1;31mIndentationError\u001b[0m\u001b[1;31m:\u001b[0m unexpected indent\n"
     ]
    }
   ],
   "source": [
    "df [\"Sprache\"] = df[\"Sprache\"].fillna(\"italienisch\")\n",
    "   df"
   ]
  }
 ],
 "metadata": {
  "kernelspec": {
   "display_name": "Python 3 (ipykernel)",
   "language": "python",
   "name": "python3"
  },
  "language_info": {
   "codemirror_mode": {
    "name": "ipython",
    "version": 3
   },
   "file_extension": ".py",
   "mimetype": "text/x-python",
   "name": "python",
   "nbconvert_exporter": "python",
   "pygments_lexer": "ipython3",
   "version": "3.11.5"
  }
 },
 "nbformat": 4,
 "nbformat_minor": 5
}
